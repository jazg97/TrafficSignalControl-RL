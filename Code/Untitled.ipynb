{
 "cells": [
  {
   "cell_type": "code",
   "execution_count": null,
   "id": "eb203e3e-cf03-4b66-8817-52fe4cb3cdf7",
   "metadata": {},
   "outputs": [],
   "source": [
    "import os\n",
    "import datetime\n",
    "from shutil import copyfile\n",
    "import sys\n",
    "import math \n",
    "import traci\n",
    "import numpy as np\n",
    "import random\n",
    "import timeit\n",
    "\n",
    "from generator import TrafficGenerator\n",
    "from memory import Memory     ## Prority Experience Memory \n",
    "from visualization import Visualization\n",
    "from utils import import_train_configuration,set_sumo, set_train_path,get_model_path\n",
    "\n",
    "import warnings\n",
    "warnings.filterwarnings('ignore')"
   ]
  },
  {
   "cell_type": "code",
   "execution_count": null,
   "id": "79a05482-c7d9-4542-a6a0-f8814a4aefef",
   "metadata": {},
   "outputs": [],
   "source": [
    "import torch \n",
    "import torch.nn as nn\n",
    "import torch.autograd as autograd \n",
    "import torch.nn.functional as F\n",
    "import torch.optim as optim\n",
    "from torch.nn.utils import clip_grad_norm_"
   ]
  },
  {
   "cell_type": "code",
   "execution_count": null,
   "id": "9e8192a7-9e11-4d12-8d86-89eca3c606cc",
   "metadata": {},
   "outputs": [],
   "source": [
    "device = torch.device(\"cuda\" if torch.cuda.is_available() else \"cpu\") "
   ]
  },
  {
   "cell_type": "code",
   "execution_count": null,
   "id": "039f90fb-58fc-4aac-a8d7-59e6588f7f8f",
   "metadata": {},
   "outputs": [],
   "source": [
    "# phase codes based on SUMO environment.net.xml \n",
    "PHASE_NS_GREEN = 0  # action 0 for Variable Order\n",
    "PHASE_NS_YELLOW = 1\n",
    "PHASE_NSL_GREEN = 2  # action 1 for Variable Order\n",
    "PHASE_NSL_YELLOW = 3\n",
    "PHASE_EW_GREEN = 4  # action 2 for Variable Order\n",
    "PHASE_EW_YELLOW = 5\n",
    "PHASE_EWL_GREEN = 6  # action 3 for Variable Order\n",
    "PHASE_EWL_YELLOW = 7"
   ]
  },
  {
   "cell_type": "code",
   "execution_count": null,
   "id": "12611a7c-5940-41ab-9fb9-6cc5ea94e2e8",
   "metadata": {},
   "outputs": [],
   "source": [
    "def _get_state():\n",
    "    \"\"\"\n",
    "    Retrieve the state of the intersection from sumo, in the form of cell occupancy\n",
    "    \"\"\"\n",
    "    state = np.zeros((3, 208, 206))   ## kind of like an RGB image\n",
    "    #Old version\n",
    "    #lane = [\"N2TL_0\",\"N2TL_1\",\"N2TL_2\",\"E2TL_0\",\"E2TL_1\",\"E2TL_2\",\"E2TL_3\",\"S2TL_0\",\"S2TL_1\",\"S2TL_2\",\"W2TL_0\",\"W2TL_1\",\"W2TL_2\",\"W2TL_3\"] #Clockwise\n",
    "    #Now is a dictionary\n",
    "    #lane     = {item: index for index, item in enumerate([\"N2TL_0\",\"N2TL_1\",\"N2TL_2\",\"E2TL_0\",\"E2TL_1\",\"E2TL_2\",\"E2TL_3\",\"S2TL_0\",\"S2TL_1\",\"S2TL_2\",\"W2TL_0\",\"W2TL_1\",\"W2TL_2\",\"W2TL_3\"])}\n",
    "    # N, E, S, W\n",
    "    #           N\n",
    "    #   W               E\n",
    "    #           S\n",
    "    \n",
    "    car_list = traci.vehicle.getIDList()\n",
    "    lane_group = 0\n",
    "\n",
    "    for car_id in car_list:\n",
    "        lane_pos = traci.vehicle.getLanePosition(car_id)\n",
    "        car_speed = traci.vehicle.getSpeed(car_id)\n",
    "        lane_id = traci.vehicle.getLaneID(car_id)\n",
    "\n",
    "        # inversion of lane pos, so if the car is close to the traffic light -> lane_pos = 0 --- 750 = max len of a road\n",
    "        #lane_pos = 750 - lane_pos\n",
    "        \n",
    "        # distance in meters from the traffic light -> mapping into cells\n",
    "        #lane_cell = int(lane_pos/7.5)\n",
    "\n",
    "        #for i in range(len(lane)):\n",
    "        #    if lane_id == lane[i]:\n",
    "        #        lane_group = i\n",
    "        #lane_group = lane[lane_id]\n",
    "        if 'N' in lane_id:            \n",
    "            x = 100 + int(lane_id[-1])\n",
    "            y = int(lane_pos//7.5)\n",
    "            \n",
    "        if 'E' in lane_id:\n",
    "            x = 205 - int(pos//7.5)\n",
    "            y = 99 + int(lane_id[-1])\n",
    "\n",
    "        if 'S' in lane_id:\n",
    "            x = 99 + 3 + int(lane_id[-1])\n",
    "            y = 207 - int(pos//7.5)\n",
    "\n",
    "        if 'W' in lane_id:\n",
    "            x = int(lane_pos//7.5)\n",
    "            y = 99 + 4 + int(lane_id[-1])\n",
    "\n",
    "        state[0][y][x] = 1 #presence / volume\n",
    "        state[1][y][x] = car_speed #velocity\n",
    "        state[2][y][x] = traci.vehicle.getAccumulatedWaitingTime(car_id) #waitingTime\n",
    "\n",
    "        #state[0][lane_group][lane_cell] = 1 \n",
    "        #state[1][lane_group][lane_cell] = car_speed \n",
    "        #state[2][lane_group][lane_cell] = traci.vehicle.getAccumulatedWaitingTime(car_id) \n",
    "        \n",
    "    return state.tolist()"
   ]
  }
 ],
 "metadata": {
  "kernelspec": {
   "display_name": "Python 3 (ipykernel)",
   "language": "python",
   "name": "python3"
  },
  "language_info": {
   "codemirror_mode": {
    "name": "ipython",
    "version": 3
   },
   "file_extension": ".py",
   "mimetype": "text/x-python",
   "name": "python",
   "nbconvert_exporter": "python",
   "pygments_lexer": "ipython3",
   "version": "3.12.2"
  }
 },
 "nbformat": 4,
 "nbformat_minor": 5
}
